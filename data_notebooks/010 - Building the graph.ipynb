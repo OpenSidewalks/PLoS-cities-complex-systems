{
 "cells": [
  {
   "cell_type": "code",
   "execution_count": 1,
   "metadata": {},
   "outputs": [],
   "source": [
    "# Uncomment and run to destroy the current routing context, which will be recreated by \n",
    "# running the 0** notebooks in order\n",
    "# !rm -r ../artifacts/unweaver"
   ]
  },
  {
   "cell_type": "code",
   "execution_count": 2,
   "metadata": {},
   "outputs": [],
   "source": [
    "!mkdir -p ../artifacts/unweaver/layers\n",
    "!cp -r ../data/unweaver/* ../artifacts/unweaver/*\n",
    "!cp ../data/seattle.geojson ../artifacts/unweaver/layers/seattle.geojson"
   ]
  },
  {
   "cell_type": "code",
   "execution_count": 3,
   "metadata": {},
   "outputs": [
    {
     "name": "stdout",
     "output_type": "stream",
     "text": [
      "Estimating feature count...\n",
      "\u001b[?25lImporting features  [####################################]  100%          \u001b[?25h\n",
      "Done.\n"
     ]
    }
   ],
   "source": [
    "!unweaver build ../artifacts/unweaver"
   ]
  },
  {
   "cell_type": "code",
   "execution_count": 4,
   "metadata": {},
   "outputs": [],
   "source": [
    "# Uncomment to recreate the spatial index. This should not be necessary.\n",
    "# import entwiner\n",
    "\n",
    "# G = entwiner.DiGraphDBView(path=\"../artifacts/unweaver/graph.gpkg\")\n",
    "# G.network.edges.drop_rtree()\n",
    "# G.network.edges.add_rtree()"
   ]
  },
  {
   "cell_type": "code",
   "execution_count": null,
   "metadata": {},
   "outputs": [],
   "source": []
  }
 ],
 "metadata": {
  "kernelspec": {
   "display_name": "Python 3",
   "language": "python",
   "name": "python3"
  },
  "language_info": {
   "codemirror_mode": {
    "name": "ipython",
    "version": 3
   },
   "file_extension": ".py",
   "mimetype": "text/x-python",
   "name": "python",
   "nbconvert_exporter": "python",
   "pygments_lexer": "ipython3",
   "version": "3.8.5"
  }
 },
 "nbformat": 4,
 "nbformat_minor": 4
}
