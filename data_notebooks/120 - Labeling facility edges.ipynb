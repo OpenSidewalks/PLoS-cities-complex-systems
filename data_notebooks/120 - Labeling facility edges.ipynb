{
 "cells": [
  {
   "cell_type": "code",
   "execution_count": 3,
   "metadata": {},
   "outputs": [],
   "source": [
    "import warnings\n",
    "\n",
    "import json\n",
    "import time\n",
    "\n",
    "import entwiner\n",
    "import geopandas as gpd\n",
    "import plotnine as p\n",
    "from shapely.geometry import shape\n",
    "from shapely.ops import transform\n",
    "\n",
    "# Suppress warnings\n",
    "warnings.filterwarnings('ignore')"
   ]
  },
  {
   "cell_type": "code",
   "execution_count": 10,
   "metadata": {},
   "outputs": [],
   "source": [
    "!cp ../artifacts/unweaver/graph.gpkg ../artifacts/unweaver/graph.facilities.gpkg"
   ]
  },
  {
   "cell_type": "code",
   "execution_count": 11,
   "metadata": {},
   "outputs": [],
   "source": [
    "G = entwiner.DiGraphDB(path=\"../artifacts/unweaver/graph.facilities.gpkg\")\n",
    "points = gpd.read_file(\"../artifacts/seattle_nodes.gpkg\")\n",
    "polygons = gpd.read_file(\"../artifacts/seattle_ways.gpkg\")"
   ]
  },
  {
   "cell_type": "code",
   "execution_count": 12,
   "metadata": {
    "scrolled": false
   },
   "outputs": [
    {
     "data": {
      "image/png": "[encoded data removed]",
      "text/plain": [
       "<Figure size 640x480 with 1 Axes>"
      ]
     },
     "metadata": {},
     "output_type": "display_data"
    },
    {
     "data": {
      "text/plain": [
       "<ggplot: (8744917100939)>"
      ]
     },
     "metadata": {},
     "output_type": "display_data"
    },
    {
     "data": {
      "image/png": "[encoded data removed]",
      "text/plain": [
       "<Figure size 640x480 with 1 Axes>"
      ]
     },
     "metadata": {},
     "output_type": "display_data"
    },
    {
     "data": {
      "text/plain": [
       "<ggplot: (8744917070580)>"
      ]
     },
     "metadata": {},
     "output_type": "display_data"
    }
   ],
   "source": [
    "for i in range(2, 4):\n",
    "    point = points.iloc[i][\"geometry\"]\n",
    "    nearby = list(G.network.edges.dwithin(point.x, point.y, 50))\n",
    "    \n",
    "    nearby_df = gpd.GeoDataFrame([{\n",
    "        **d,\n",
    "        \"geometry\": shape(d[\"geom\"])\n",
    "    } for u, v, d in nearby])\n",
    "        \n",
    "    if nearby_df.shape[0]:\n",
    "        if \"geom\" in nearby_df.columns:\n",
    "            nearby_df.drop(columns=\"geom\", inplace=True)\n",
    "            \n",
    "        point_df = gpd.GeoDataFrame([{\n",
    "            \"geometry\": point\n",
    "        }])\n",
    "\n",
    "        display(\n",
    "        p.ggplot(nearby_df)\n",
    "        + p.geom_map()\n",
    "        + p.geom_map(data=point_df)\n",
    "        )"
   ]
  },
  {
   "cell_type": "code",
   "execution_count": 13,
   "metadata": {
    "scrolled": false
   },
   "outputs": [
    {
     "name": "stdout",
     "output_type": "stream",
     "text": [
      "2.681086301803589\n",
      "15.644183158874512\n"
     ]
    }
   ],
   "source": [
    "start = time.time()\n",
    "\n",
    "facility_edge_pairs = []\n",
    "\n",
    "def label_edges(point_row, distance=50):\n",
    "    point_geom = point_row[\"geometry\"]\n",
    "    facility = point_row[\"facility\"]\n",
    "    nearby_edges = G.network.edges.dwithin(point_geom.x, point_geom.y, 50)\n",
    "    for u, v, edge in nearby_edges:\n",
    "        facility_edge_pairs.append({\n",
    "            \"facility_osm_id\": point_row[\"osm_id\"],\n",
    "            \"edge_fid\": edge[\"fid\"],\n",
    "            \"facility\": facility,\n",
    "        })\n",
    "#         if facility in d and d[facility] is not None:\n",
    "#             G[u][v][facility] += 1\n",
    "#         else:\n",
    "#             G[u][v][facility] = 1\n",
    "\n",
    "points.apply(label_edges, axis=1);\n",
    "\n",
    "end = time.time()\n",
    "\n",
    "print(time.time() - start)\n",
    "\n",
    "start = time.time()\n",
    "\n",
    "# facility_edge_pairs = []\n",
    "\n",
    "def label_edges_ways(way_row, distance=50):\n",
    "    way_geom = way_row[\"geometry\"]\n",
    "    facility = way_row[\"facility\"]\n",
    "    \n",
    "    left, bottom, right, top = way_geom.bounds\n",
    "    \n",
    "    left, bottom = G.network.edges.transformer.transform(left, bottom)\n",
    "    right, top = G.network.edges.transformer.transform(right, top)\n",
    "    \n",
    "    left -= distance\n",
    "    bottom -= distance\n",
    "    right += distance\n",
    "    top += distance\n",
    "        \n",
    "    left, bottom = G.network.edges.transformer.transform(left, bottom, direction=\"INVERSE\")\n",
    "    right, top = G.network.edges.transformer.transform(right, top, direction=\"INVERSE\")\n",
    "        \n",
    "    nearby_edges = G.network.edges.intersects(left, bottom, right, top)\n",
    "    \n",
    "    for edge in nearby_edges:\n",
    "        edge_geom = shape(edge[\"geom\"])\n",
    "        edge_geom = transform(G.network.edges.transformer.transform, edge_geom)\n",
    "        polygon_geom = transform(G.network.edges.transformer.transform, way_geom)\n",
    "        if polygon_geom.distance(edge_geom) < distance:\n",
    "            facility_edge_pairs.append({\n",
    "                \"facility_osm_id\": way_row[\"osm_id\"],\n",
    "                \"edge_fid\": edge[\"fid\"],\n",
    "                \"facility\": facility,\n",
    "            })\n",
    "#         if facility in d and d[facility] is not None:\n",
    "#             G[u][v][facility] += 1\n",
    "#             print(1)\n",
    "#         else:\n",
    "#             G[u][v][facility] = 1\n",
    "\n",
    "polygons.apply(label_edges_ways, axis=1);\n",
    "\n",
    "print(time.time() - start)"
   ]
  },
  {
   "cell_type": "code",
   "execution_count": 14,
   "metadata": {},
   "outputs": [
    {
     "data": {
      "text/plain": [
       "{'facility_osm_id': 356540545, 'edge_fid': 83717, 'facility': 'school'}"
      ]
     },
     "execution_count": 14,
     "metadata": {},
     "output_type": "execute_result"
    }
   ],
   "source": [
    "facility_edge_pairs[0]"
   ]
  },
  {
   "cell_type": "code",
   "execution_count": 15,
   "metadata": {},
   "outputs": [],
   "source": [
    "if \"facility_edges\" in G.network.gpkg.feature_tables:\n",
    "    G.network.gpkg.feature_tables[\"facility_edges\"].drop_tables()\n",
    "    # TODO put drop_feature_table in GeoPackage class?\n",
    "    G.network.gpkg.feature_tables.pop(\"facility_edges\")\n",
    "    \n",
    "facility_edges_table = G.network.gpkg.add_feature_table(\"facility_edges\", \"LineString\")\n",
    "\n",
    "facility_edges_table.write_features(facility_edge_pairs)"
   ]
  },
  {
   "cell_type": "code",
   "execution_count": 16,
   "metadata": {},
   "outputs": [
    {
     "data": {
      "text/plain": [
       "50468"
      ]
     },
     "execution_count": 16,
     "metadata": {},
     "output_type": "execute_result"
    }
   ],
   "source": [
    "len(facility_edges_table)"
   ]
  },
  {
   "cell_type": "code",
   "execution_count": null,
   "metadata": {},
   "outputs": [],
   "source": []
  }
 ],
 "metadata": {
  "kernelspec": {
   "display_name": "Python 3",
   "language": "python",
   "name": "python3"
  },
  "language_info": {
   "codemirror_mode": {
    "name": "ipython",
    "version": 3
   },
   "file_extension": ".py",
   "mimetype": "text/x-python",
   "name": "python",
   "nbconvert_exporter": "python",
   "pygments_lexer": "ipython3",
   "version": "3.8.5"
  }
 },
 "nbformat": 4,
 "nbformat_minor": 4
}
