{
 "cells": [
  {
   "cell_type": "code",
   "execution_count": 1,
   "metadata": {},
   "outputs": [],
   "source": [
    "import geopandas as gpd\n",
    "import osmium\n",
    "from shapely.geometry import shape\n",
    "\n",
    "# WGS84 CRS\n",
    "WGS84 = 4326"
   ]
  },
  {
   "cell_type": "code",
   "execution_count": 2,
   "metadata": {},
   "outputs": [],
   "source": [
    "facilities = {\n",
    "    \"bank\": [(\"amenity\", \"bank\")],\n",
    "    \"bar\": [(\"amenity\", \"bar\")],\n",
    "    \"concert_hall\": [(\"amenity\", \"concert_hall\")],\n",
    "    \"hospital\": [(\"amenity\", \"hospital\")],\n",
    "    \"park\": [(\"leisure\", \"park\")],\n",
    "    \"pharmacy\": [(\"amenity\", \"pharmacy\")],\n",
    "    \"school\": [(\"amenity\", \"school\")],\n",
    "    \"sports_field\": [(\"leisure\", \"pitch\")],\n",
    "}\n",
    "\n",
    "\n",
    "def way_filter(tags):\n",
    "    for facility, facility_tags in facilities.items():\n",
    "        for facility_tag in facility_tags:\n",
    "            if facility_tag[0] in tags:\n",
    "                if tags[facility_tag[0]] == facility_tag[1]:\n",
    "                    return True\n",
    "    return False\n",
    "\n",
    "node_filter = way_filter\n",
    "\n",
    "\n",
    "def facility_from_tags(tags):\n",
    "    def any_match(tags, facility_tags):\n",
    "        for key, value in facility_tags:\n",
    "            if key in tags:\n",
    "                if tags[key] == value:\n",
    "                    return True\n",
    "        return False\n",
    "    \n",
    "    for facility, facility_tags in facilities.items():\n",
    "        if any_match(tags, facility_tags):\n",
    "            return facility"
   ]
  },
  {
   "cell_type": "markdown",
   "metadata": {},
   "source": [
    "Note: the parser functions may need to be run multiple times to function. Some kind of caching happening?"
   ]
  },
  {
   "cell_type": "code",
   "execution_count": 3,
   "metadata": {},
   "outputs": [],
   "source": [
    "nodes = []\n",
    "\n",
    "class NodeParser(osmium.SimpleHandler):\n",
    "    def __init__(self):\n",
    "        osmium.SimpleHandler.__init__(self)\n",
    "    \n",
    "    def node(self, n):\n",
    "        if not way_filter(n.tags):\n",
    "            return\n",
    "        \n",
    "        loc = n.location\n",
    "        coords = (float(loc.lon), float(loc.lat))\n",
    "        \n",
    "        geometry = {\n",
    "            \"type\": \"Point\",\n",
    "            \"coordinates\": coords\n",
    "        }\n",
    "        \n",
    "        facility = facility_from_tags(n.tags)\n",
    "\n",
    "        d = {\n",
    "            \"geometry\": geometry,\n",
    "            \"properties\": {\n",
    "                \"osm_id\": int(n.id),\n",
    "                \"facility\": facility\n",
    "            }\n",
    "        }\n",
    "            \n",
    "        nodes.append(d)        \n",
    "    \n",
    "        del loc\n",
    "        del n\n",
    "\n",
    "        \n",
    "node_parser = NodeParser()\n",
    "node_parser.apply_file(\"../artifacts/seattle.osm.pbf\")"
   ]
  },
  {
   "cell_type": "code",
   "execution_count": 4,
   "metadata": {},
   "outputs": [],
   "source": [
    "ways = []\n",
    "\n",
    "class WayParser(osmium.SimpleHandler):\n",
    "    def __init__(self):\n",
    "        osmium.SimpleHandler.__init__(self)\n",
    "\n",
    "    def way(self, w):\n",
    "        # FIXME: this will miss multipolygons. Need a relation hook.\n",
    "        if not way_filter(w.tags):\n",
    "            return\n",
    "        \n",
    "        coords = [(n.lon, n.lat) for n in w.nodes]\n",
    "        \n",
    "        # Reject invalid polygons\n",
    "        if (coords[0][0] != coords[-1][0]) and (coords[0][1] != coords[-1][1]):\n",
    "            return\n",
    "        \n",
    "        geometry = {\n",
    "            \"type\": \"Polygon\",\n",
    "            \"coordinates\": [coords]\n",
    "        }\n",
    "        \n",
    "        facility = facility_from_tags(w.tags)\n",
    "\n",
    "        d = {\n",
    "            \"geometry\": geometry,\n",
    "            \"properties\": {\n",
    "                \"osm_id\": int(w.id),\n",
    "                \"facility\": facility\n",
    "            }\n",
    "        }\n",
    "\n",
    "        \n",
    "        ways.append(d)\n",
    "        \n",
    "        del w\n",
    "        \n",
    "way_parser = WayParser()\n",
    "way_parser.apply_file(\"../artifacts/seattle.osm.pbf\", locations=True)"
   ]
  },
  {
   "cell_type": "code",
   "execution_count": 5,
   "metadata": {},
   "outputs": [
    {
     "name": "stdout",
     "output_type": "stream",
     "text": [
      "Nodes: 552\n",
      "Ways: 1649\n"
     ]
    }
   ],
   "source": [
    "print(f\"Nodes: {len(nodes)}\")\n",
    "print(f\"Ways: {len(ways)}\")"
   ]
  },
  {
   "cell_type": "code",
   "execution_count": 6,
   "metadata": {},
   "outputs": [],
   "source": [
    "nodes_shapes = [{**n[\"properties\"], \"geometry\": shape(n[\"geometry\"])} for n in nodes]\n",
    "ways_shapes = [{**w[\"properties\"], \"geometry\": shape(w[\"geometry\"])} for w in ways]"
   ]
  },
  {
   "cell_type": "code",
   "execution_count": 7,
   "metadata": {},
   "outputs": [],
   "source": [
    "nodes_df = gpd.GeoDataFrame(nodes_shapes)\n",
    "ways_df = gpd.GeoDataFrame(ways_shapes)\n",
    "nodes_df.crs = WGS84\n",
    "ways_df.crs = WGS84"
   ]
  },
  {
   "cell_type": "code",
   "execution_count": 8,
   "metadata": {},
   "outputs": [],
   "source": [
    "nodes_df.to_file(\"../artifacts/seattle_nodes.gpkg\", driver=\"GPKG\")\n",
    "ways_df.to_file(\"../artifacts/seattle_ways.gpkg\", driver=\"GPKG\")"
   ]
  },
  {
   "cell_type": "code",
   "execution_count": null,
   "metadata": {},
   "outputs": [],
   "source": []
  }
 ],
 "metadata": {
  "kernelspec": {
   "display_name": "Python 3",
   "language": "python",
   "name": "python3"
  },
  "language_info": {
   "codemirror_mode": {
    "name": "ipython",
    "version": 3
   },
   "file_extension": ".py",
   "mimetype": "text/x-python",
   "name": "python",
   "nbconvert_exporter": "python",
   "pygments_lexer": "ipython3",
   "version": "3.8.5"
  }
 },
 "nbformat": 4,
 "nbformat_minor": 4
}
