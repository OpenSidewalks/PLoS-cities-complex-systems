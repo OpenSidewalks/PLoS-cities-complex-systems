{
 "cells": [
  {
   "cell_type": "code",
   "execution_count": 1,
   "metadata": {},
   "outputs": [],
   "source": [
    "import warnings\n",
    "\n",
    "import entwiner\n",
    "import networkx as nx\n",
    "\n",
    "# Suppress warnings\n",
    "warnings.filterwarnings('ignore')"
   ]
  },
  {
   "cell_type": "code",
   "execution_count": 2,
   "metadata": {},
   "outputs": [],
   "source": [
    "central_bounds = (-122.3611, 47.5994, -122.2773, 47.6183)"
   ]
  },
  {
   "cell_type": "code",
   "execution_count": 3,
   "metadata": {},
   "outputs": [],
   "source": [
    "G = entwiner.DiGraphDBView(path=\"../artifacts/unweaver/graph.gpkg\")"
   ]
  },
  {
   "cell_type": "code",
   "execution_count": 4,
   "metadata": {},
   "outputs": [],
   "source": [
    "# Create subgraph from bounding box\n",
    "G2 = entwiner.DiGraphDB.create_graph(path=\"../artifacts/unweaver/graph.betweenness.gpkg\")\n",
    "edges = []\n",
    "for e in G.network.edges.intersects(*central_bounds):\n",
    "    e.pop(\"fid\")\n",
    "    edges.append(e)\n",
    "G2.network.edges.write_features(edges)"
   ]
  },
  {
   "cell_type": "code",
   "execution_count": 5,
   "metadata": {},
   "outputs": [],
   "source": [
    "with G2.network.gpkg.connect() as conn:\n",
    "    column_exists = False\n",
    "    for row in conn.execute(\"PRAGMA table_info(edges)\"):\n",
    "        if row[\"name\"] == \"wheelchair_weight\":\n",
    "            column_exists = True\n",
    "    if not column_exists:\n",
    "        conn.execute(\"ALTER TABLE edges ADD COLUMN wheelchair_weight DOUBLE\")"
   ]
  },
  {
   "cell_type": "code",
   "execution_count": 6,
   "metadata": {},
   "outputs": [],
   "source": [
    "# Embed wheelchair weights\n",
    "\n",
    "# Set weight to 1000 (1 km) because centrality function can't handle None values (inf)\n",
    "\n",
    "with G2.network.gpkg.connect() as conn:\n",
    "    conn.execute(\"\"\"\n",
    "        UPDATE edges\n",
    "           SET wheelchair_weight = length\n",
    "    \"\"\")\n",
    "    conn.execute(\"\"\"\n",
    "        UPDATE edges\n",
    "           SET wheelchair_weight = 1000\n",
    "         WHERE (incline IS NOT NULL) AND (ABS(incline) > 0.1)\n",
    "    \"\"\")\n",
    "    conn.execute(\"\"\"\n",
    "        UPDATE edges\n",
    "           SET wheelchair_weight = 1000\n",
    "         WHERE (curbramps IS NOT NULL) AND (curbramps != 1)\n",
    "    \"\"\")"
   ]
  },
  {
   "cell_type": "code",
   "execution_count": 7,
   "metadata": {},
   "outputs": [],
   "source": [
    "# Calculate and save betweenness centrality for different cost functions\n",
    "cost_fun = lambda u, v, d: d[\"length\"]\n",
    "betweenness = nx.algorithms.edge_betweenness_centrality(G2, weight=\"length\")\n",
    "for (u, v), centrality in betweenness.items():\n",
    "    G2[u][v][\"betweenness\"] = centrality"
   ]
  },
  {
   "cell_type": "code",
   "execution_count": 9,
   "metadata": {},
   "outputs": [],
   "source": [
    "# Calculate and save betweenness centrality for different cost functions\n",
    "cost_fun_wc = lambda u, v, d: d[\"wheelchair_weight\"]\n",
    "\n",
    "betweenness_wc = nx.algorithms.edge_betweenness_centrality(G2, weight=\"wheelchair_weight\")\n",
    "for (u, v), centrality in betweenness_wc.items():\n",
    "    G2[u][v][\"betweenness_wc\"] = centrality"
   ]
  },
  {
   "cell_type": "code",
   "execution_count": null,
   "metadata": {},
   "outputs": [],
   "source": []
  }
 ],
 "metadata": {
  "kernelspec": {
   "display_name": "Python 3",
   "language": "python",
   "name": "python3"
  },
  "language_info": {
   "codemirror_mode": {
    "name": "ipython",
    "version": 3
   },
   "file_extension": ".py",
   "mimetype": "text/x-python",
   "name": "python",
   "nbconvert_exporter": "python",
   "pygments_lexer": "ipython3",
   "version": "3.8.5"
  }
 },
 "nbformat": 4,
 "nbformat_minor": 4
}
