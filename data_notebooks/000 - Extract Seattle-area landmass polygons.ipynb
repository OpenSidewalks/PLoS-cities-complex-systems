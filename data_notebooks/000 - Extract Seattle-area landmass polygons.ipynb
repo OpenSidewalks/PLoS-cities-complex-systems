{
 "cells": [
  {
   "cell_type": "markdown",
   "metadata": {},
   "source": [
    "# Extracting Seattle-area landmass polygons\n",
    "\n",
    "This is an optional notebook that generates the `artifacts/seattle_landmasses.geojson` file, which is already included in this repository by default. It depends on download the `processed_p.tar.bz2` file in the `data/landmasses` directory, with the URL for obtaining this listed below."
   ]
  },
  {
   "cell_type": "code",
   "execution_count": 1,
   "metadata": {},
   "outputs": [],
   "source": [
    "import warnings\n",
    "\n",
    "import geopandas as gpd\n",
    "from shapely.geometry import Polygon\n",
    "from pyproj import Transformer\n",
    "\n",
    "# Suppress warnings from Fiona regression\n",
    "warnings.filterwarnings('ignore')\n",
    "\n",
    "# Projections\n",
    "WGS84 = 4326\n",
    "WEB_MERCATOR = 3857\n",
    "NAD83 = 26910"
   ]
  },
  {
   "cell_type": "code",
   "execution_count": 2,
   "metadata": {},
   "outputs": [],
   "source": [
    "# Coastlines (actually landmasses) from https://tile.openstreetmap.org/processed_p.tar.bz2\n",
    "!tar xf ../data/landmasses/processed_p.tar.bz2 -C ../data/landmasses/"
   ]
  },
  {
   "cell_type": "code",
   "execution_count": 3,
   "metadata": {},
   "outputs": [],
   "source": [
    "# Extract (roughly) the Seattle area as a GeoDataFrame\n",
    "transformer = Transformer.from_crs(WGS84, WEB_MERCATOR, always_xy=True)\n",
    "seattle_bbox = (-122.5, 47.3, -122.1, 47.9)\n",
    "southwest = transformer.transform(seattle_bbox[0], seattle_bbox[1])\n",
    "northeast = transformer.transform(seattle_bbox[2], seattle_bbox[3])\n",
    "web_mercator_bbox = (*southwest, *northeast)\n",
    "\n",
    "landmass = gpd.read_file(\"../data/landmasses/processed_p.shp\", bbox=web_mercator_bbox)\n",
    "landmass.crs = WEB_MERCATOR"
   ]
  },
  {
   "cell_type": "code",
   "execution_count": 4,
   "metadata": {},
   "outputs": [
    {
     "data": {
      "text/html": [
       "<div>\n",
       "<style scoped>\n",
       "    .dataframe tbody tr th:only-of-type {\n",
       "        vertical-align: middle;\n",
       "    }\n",
       "\n",
       "    .dataframe tbody tr th {\n",
       "        vertical-align: top;\n",
       "    }\n",
       "\n",
       "    .dataframe thead th {\n",
       "        text-align: right;\n",
       "    }\n",
       "</style>\n",
       "<table border=\"1\" class=\"dataframe\">\n",
       "  <thead>\n",
       "    <tr style=\"text-align: right;\">\n",
       "      <th></th>\n",
       "      <th>error</th>\n",
       "      <th>tile_x</th>\n",
       "      <th>tile_y</th>\n",
       "      <th>geometry</th>\n",
       "    </tr>\n",
       "  </thead>\n",
       "  <tbody>\n",
       "    <tr>\n",
       "      <th>0</th>\n",
       "      <td>0</td>\n",
       "      <td>63</td>\n",
       "      <td>259</td>\n",
       "      <td>POLYGON ((545439.497 5241430.322, 545460.720 5...</td>\n",
       "    </tr>\n",
       "    <tr>\n",
       "      <th>1</th>\n",
       "      <td>0</td>\n",
       "      <td>63</td>\n",
       "      <td>259</td>\n",
       "      <td>POLYGON ((545375.419 5249733.263, 545390.144 5...</td>\n",
       "    </tr>\n",
       "    <tr>\n",
       "      <th>2</th>\n",
       "      <td>0</td>\n",
       "      <td>63</td>\n",
       "      <td>260</td>\n",
       "      <td>MULTIPOLYGON (((537423.924 5296919.809, 537432...</td>\n",
       "    </tr>\n",
       "    <tr>\n",
       "      <th>3</th>\n",
       "      <td>0</td>\n",
       "      <td>63</td>\n",
       "      <td>260</td>\n",
       "      <td>POLYGON ((542689.202 5252130.255, 537712.767 5...</td>\n",
       "    </tr>\n",
       "    <tr>\n",
       "      <th>4</th>\n",
       "      <td>0</td>\n",
       "      <td>63</td>\n",
       "      <td>260</td>\n",
       "      <td>POLYGON ((545273.876 5262870.340, 545274.699 5...</td>\n",
       "    </tr>\n",
       "  </tbody>\n",
       "</table>\n",
       "</div>"
      ],
      "text/plain": [
       "   error  tile_x  tile_y                                           geometry\n",
       "0      0      63     259  POLYGON ((545439.497 5241430.322, 545460.720 5...\n",
       "1      0      63     259  POLYGON ((545375.419 5249733.263, 545390.144 5...\n",
       "2      0      63     260  MULTIPOLYGON (((537423.924 5296919.809, 537432...\n",
       "3      0      63     260  POLYGON ((542689.202 5252130.255, 537712.767 5...\n",
       "4      0      63     260  POLYGON ((545273.876 5262870.340, 545274.699 5..."
      ]
     },
     "execution_count": 4,
     "metadata": {},
     "output_type": "execute_result"
    }
   ],
   "source": [
    "# Convert back to WGS84 and clip\n",
    "landmass = landmass.to_crs(WGS84)\n",
    "landmass = gpd.clip(landmass, Polygon.from_bounds(*seattle_bbox))\n",
    "# Convert to NAD83 in meters\n",
    "landmass = landmass.to_crs(NAD83)\n",
    "landmass.head()"
   ]
  },
  {
   "cell_type": "code",
   "execution_count": 5,
   "metadata": {},
   "outputs": [],
   "source": [
    "# Merge into larger polygon\n",
    "landmass = gpd.GeoDataFrame(geometry=gpd.GeoSeries(landmass.geometry.unary_union.geoms))\n",
    "landmass.crs = NAD83"
   ]
  },
  {
   "cell_type": "code",
   "execution_count": 6,
   "metadata": {},
   "outputs": [],
   "source": [
    "landmass.to_file(\"../artifacts/seattle_landmasses.geojson\", driver=\"GPKG\")"
   ]
  },
  {
   "cell_type": "code",
   "execution_count": null,
   "metadata": {},
   "outputs": [],
   "source": []
  }
 ],
 "metadata": {
  "kernelspec": {
   "display_name": "Python 3",
   "language": "python",
   "name": "python3"
  },
  "language_info": {
   "codemirror_mode": {
    "name": "ipython",
    "version": 3
   },
   "file_extension": ".py",
   "mimetype": "text/x-python",
   "name": "python",
   "nbconvert_exporter": "python",
   "pygments_lexer": "ipython3",
   "version": "3.8.5"
  }
 },
 "nbformat": 4,
 "nbformat_minor": 4
}
