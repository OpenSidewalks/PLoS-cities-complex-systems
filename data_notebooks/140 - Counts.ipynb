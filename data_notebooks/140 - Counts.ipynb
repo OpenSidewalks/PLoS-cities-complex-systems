{
 "cells": [
  {
   "cell_type": "code",
   "execution_count": 1,
   "metadata": {},
   "outputs": [],
   "source": [
    "import warnings\n",
    "\n",
    "import time\n",
    "\n",
    "import entwiner\n",
    "import unweaver\n",
    "from shapely.geometry import mapping, shape\n",
    "from sqlite3 import OperationalError\n",
    "\n",
    "# Suppress warnings\n",
    "warnings.filterwarnings('ignore')"
   ]
  },
  {
   "cell_type": "code",
   "execution_count": 2,
   "metadata": {},
   "outputs": [],
   "source": [
    "G = entwiner.DiGraphDBView(path=\"../artifacts/unweaver/graph.facilities.gpkg\")"
   ]
  },
  {
   "cell_type": "code",
   "execution_count": 3,
   "metadata": {},
   "outputs": [],
   "source": [
    "# cost_fun = lambda u, v, d: d[\"length\"]\n",
    "\n",
    "# def cost_fun(u, v, d):\n",
    "#     if d[\"incline\"] is not None:\n",
    "#         if (d[\"incline\"] > 0.1) or (d[\"incline\"] < -0.1):\n",
    "#             return None\n",
    "#     if d[\"curbramps\"] is not None:\n",
    "#         if not d[\"curbramps\"]:\n",
    "#             return None\n",
    "#     return d.get(\"length\", None)"
   ]
  },
  {
   "cell_type": "code",
   "execution_count": 4,
   "metadata": {},
   "outputs": [],
   "source": [
    "try:\n",
    "    with G.network.gpkg.connect() as conn:\n",
    "        conn.execute(\"ALTER TABLE edges ADD COLUMN wheelchair_weight DOUBLE\")\n",
    "except OperationalError:\n",
    "    # The column already exists (probably)\n",
    "    pass"
   ]
  },
  {
   "cell_type": "code",
   "execution_count": 5,
   "metadata": {},
   "outputs": [],
   "source": [
    "with G.network.gpkg.connect() as conn:\n",
    "    conn.execute(\"\"\"\n",
    "        UPDATE edges\n",
    "           SET wheelchair_weight = length\n",
    "    \"\"\")\n",
    "    conn.execute(\"\"\"\n",
    "        UPDATE edges\n",
    "           SET wheelchair_weight = NULL\n",
    "         WHERE (incline IS NOT NULL) AND (ABS(incline) > 0.1)\n",
    "    \"\"\")\n",
    "    conn.execute(\"\"\"\n",
    "        UPDATE edges\n",
    "           SET wheelchair_weight = NULL\n",
    "         WHERE (curbramps IS NOT NULL) AND (curbramps != 1)\n",
    "    \"\"\")\n",
    "    \n"
   ]
  },
  {
   "cell_type": "code",
   "execution_count": 6,
   "metadata": {},
   "outputs": [
    {
     "data": {
      "text/plain": [
       "['school', 'pharmacy', 'bank', 'bar', 'sports_field', 'park', 'hospital']"
      ]
     },
     "execution_count": 6,
     "metadata": {},
     "output_type": "execute_result"
    }
   ],
   "source": [
    "facility_classes = [row[\"f\"] for row in G.network.gpkg.conn.execute(\"SELECT DISTINCT(facility) f FROM facility_edges\")]\n",
    "facility_classes"
   ]
  },
  {
   "cell_type": "code",
   "execution_count": null,
   "metadata": {},
   "outputs": [],
   "source": [
    "# TODO: this does double the necessary work. Isolate unique (u, v) pairs first (v,u = u,v)?\n",
    "# edges = G.network.edges\n",
    "cost_fun = lambda u, v, d: d[\"_weight_walk\"]\n",
    "if \"facility_points\" in G.network.gpkg.feature_tables:\n",
    "    G.network.gpkg.drop_feature_table(\"facility_points\")\n",
    "facility_points = G.network.gpkg.add_feature_table(\"facility_points\", \"Point\")\n",
    "\n",
    "edges = [(e.pop(\"_u\"), e.pop(\"_v\"), e) for e in G.network.edges.intersects(-122.3222, 47.6532, -122.3121, 47.6613)]\n",
    "edges = G.iter_edges()\n",
    "\n",
    "start = time.time()\n",
    "\n",
    "# updates = []\n",
    "point_features = []\n",
    "\n",
    "count = 0\n",
    "failures = 0\n",
    "\n",
    "\n",
    "for i, (u, v, d) in enumerate(edges):\n",
    "#     if count > 100:\n",
    "#         break\n",
    "    try:\n",
    "        point = shape(d[\"geom\"]).interpolate(0.5, normalized=True)\n",
    "    except AttributeError:\n",
    "        # Encountered bad data - skip\n",
    "        continue\n",
    "    except ValueError:\n",
    "        # Encountered bad data - skip\n",
    "        continue\n",
    "    candidates = unweaver.graph.waypoint_candidates(G, point.x, point.y, 1, dwithin=1)\n",
    "    feature = {\"geom\": mapping(point)}\n",
    "    for facility_class in facility_classes:\n",
    "        feature[facility_class] = 0\n",
    "        \n",
    "    try:\n",
    "        candidate = next(candidates)\n",
    "        G_aug = unweaver.graphs.augmented.prepare_augmented(G, candidate)\n",
    "        path, edge_list = unweaver.algorithms.reachable.reachable(G_aug, candidate, cost_fun, 400)\n",
    "        edge_list = \",\".join((str(e[\"fid\"]) for e in edge_list))\n",
    "        query = G.network.gpkg.conn.execute(f\"\"\"\n",
    "            SELECT COUNT(DISTINCT facility_osm_id) count,\n",
    "                   facility\n",
    "              FROM facility_edges \n",
    "             WHERE edge_fid IN ({edge_list})\n",
    "          GROUP BY facility\n",
    "        \"\"\")\n",
    "        # Keys (facilities) are unique due to group by            \n",
    "        for row in query:\n",
    "            feature[row[\"facility\"]] = row[\"count\"]\n",
    "        point_features.append(feature)\n",
    "        count += 1\n",
    "    except StopIteration:\n",
    "        point_features.append(feature)\n",
    "        continue\n",
    "    except Exception as e:\n",
    "        print(e)\n",
    "        failures += 1\n",
    "        pass\n",
    "\n",
    "print(time.time() - start)\n",
    "print(failures)\n",
    "\n",
    "facility_points.write_features(point_features)"
   ]
  },
  {
   "cell_type": "code",
   "execution_count": 8,
   "metadata": {},
   "outputs": [],
   "source": [
    "# TODO: this does double the necessary work. Isolate unique (u, v) pairs first (v,u = u,v)?\n",
    "# edges = G.network.edges\n",
    "cost_fun = lambda u, v, d: d[\"_weight_wheelchair\"]\n",
    "if \"facility_points_wheelchair\" in G.network.gpkg.feature_tables:\n",
    "    G.network.gpkg.drop_feature_table(\"facility_points_wheelchair\")\n",
    "facility_points = G.network.gpkg.add_feature_table(\"facility_points_wheelchair\", \"Point\")\n",
    "\n",
    "edges = [(e.pop(\"_u\"), e.pop(\"_v\"), e) for e in G.network.edges.intersects(-122.3222, 47.6532, -122.3121, 47.6613)]\n",
    "edges = G.iter_edges()\n",
    "\n",
    "start = time.time()\n",
    "\n",
    "# updates = []\n",
    "point_features = []\n",
    "\n",
    "count = 0\n",
    "failures = 0\n",
    "\n",
    "\n",
    "for i, (u, v, d) in enumerate(edges):\n",
    "#     if count > 100:\n",
    "#         break\n",
    "    try:\n",
    "        point = shape(d[\"geom\"]).interpolate(0.5, normalized=True)\n",
    "    except AttributeError:\n",
    "        # Encountered bad data - skip\n",
    "        continue\n",
    "    except ValueError:\n",
    "        # Encountered bad data - skip\n",
    "        continue\n",
    "    candidates = unweaver.graph.waypoint_candidates(G, point.x, point.y, 1, dwithin=1)\n",
    "    feature = {\"geom\": mapping(point)}\n",
    "    for facility_class in facility_classes:\n",
    "        feature[facility_class] = 0\n",
    "        \n",
    "    try:\n",
    "        candidate = next(candidates)\n",
    "        G_aug = unweaver.graphs.augmented.prepare_augmented(G, candidate)\n",
    "        path, edge_list = unweaver.algorithms.reachable.reachable(G_aug, candidate, cost_fun, 400)\n",
    "        edge_list = \",\".join((str(e[\"fid\"]) for e in edge_list))\n",
    "        query = G.network.gpkg.conn.execute(f\"\"\"\n",
    "            SELECT COUNT(DISTINCT facility_osm_id) count,\n",
    "                   facility\n",
    "              FROM facility_edges \n",
    "             WHERE edge_fid IN ({edge_list})\n",
    "          GROUP BY facility\n",
    "        \"\"\")\n",
    "        # Keys (facilities) are unique due to group by            \n",
    "        for row in query:\n",
    "            feature[row[\"facility\"]] = row[\"count\"]\n",
    "        point_features.append(feature)\n",
    "        count += 1\n",
    "    except StopIteration:\n",
    "        point_features.append(feature)\n",
    "        continue\n",
    "    except Exception as e:\n",
    "        print(e)\n",
    "        failures += 1\n",
    "        pass\n",
    "\n",
    "print(time.time() - start)\n",
    "print(failures)\n",
    "\n",
    "facility_points.write_features(point_features)"
   ]
  },
  {
   "cell_type": "code",
   "execution_count": 9,
   "metadata": {},
   "outputs": [],
   "source": [
    "import geopandas as gpd\n",
    "import plotnine as p\n",
    "\n",
    "fids = [int(e) for e in edge_list.split(\",\")]\n",
    "query = G.network.gpkg.conn.execute(f\"\"\"\n",
    "    SELECT *\n",
    "      FROM edges\n",
    "     WHERE fid IN ({edge_list})\n",
    "\"\"\")\n",
    "\n",
    "rows = [G.network.edges.deserialize_row(r) for r in query]\n",
    "gdf = gpd.GeoDataFrame([{**r, \"geometry\": shape(r[\"geom\"])} for r in rows])\n",
    "gdf.crs = 4326\n",
    "gdf2 = gdf.to_crs(26910)\n",
    "\n",
    "point = gpd.GeoDataFrame([{\"geometry\": candidate.geometry}])\n",
    "point.crs = 4326\n",
    "point = point.to_crs(26910)\n",
    "\n",
    "(\n",
    "    p.ggplot(gdf2)\n",
    "    + p.geom_map()\n",
    "    + p.geom_map(data=point, fill=\"red\", size=2)\n",
    ")"
   ]
  },
  {
   "cell_type": "code",
   "execution_count": 7,
   "metadata": {},
   "outputs": [
    {
     "data": {
      "text/plain": [
       "False"
      ]
     },
     "execution_count": 7,
     "metadata": {},
     "output_type": "execute_result"
    }
   ],
   "source": [
    "98121 in fids"
   ]
  },
  {
   "cell_type": "code",
   "execution_count": 8,
   "metadata": {},
   "outputs": [
    {
     "data": {
      "image/svg+xml": [
       "<svg xmlns=\"http://www.w3.org/2000/svg\" xmlns:xlink=\"http://www.w3.org/1999/xlink\" width=\"100.0\" height=\"100.0\" viewBox=\"-123.31461891000001 46.6527236 2.0 2.0\" preserveAspectRatio=\"xMinYMin meet\"><g transform=\"matrix(1,0,0,-1,0,95.3054472)\"><circle cx=\"-122.31461891000001\" cy=\"47.6527236\" r=\"0.06\" stroke=\"#555555\" stroke-width=\"0.02\" fill=\"#66cc99\" opacity=\"0.6\" /></g></svg>"
      ],
      "text/plain": [
       "<shapely.geometry.point.Point at 0x7ff5090cc898>"
      ]
     },
     "execution_count": 8,
     "metadata": {},
     "output_type": "execute_result"
    }
   ],
   "source": [
    "candidate.geometry"
   ]
  },
  {
   "cell_type": "code",
   "execution_count": 9,
   "metadata": {},
   "outputs": [],
   "source": [
    "        query = G.network.gpkg.conn.execute(f\"\"\"\n",
    "            SELECT COUNT(DISTINCT facility_osm_id) count,\n",
    "                   facility\n",
    "              FROM facility_edges \n",
    "             WHERE edge_fid IN ({edge_list})\n",
    "          GROUP BY facility\n",
    "        \"\"\")"
   ]
  },
  {
   "cell_type": "code",
   "execution_count": 10,
   "metadata": {},
   "outputs": [
    {
     "data": {
      "text/plain": [
       "2445"
      ]
     },
     "execution_count": 10,
     "metadata": {},
     "output_type": "execute_result"
    }
   ],
   "source": [
    "edges[0][2][\"fid\"]"
   ]
  },
  {
   "cell_type": "code",
   "execution_count": 11,
   "metadata": {},
   "outputs": [
    {
     "name": "stdout",
     "output_type": "stream",
     "text": [
      "[{'count': 6, 'facility': 'bank'}, {'count': 3, 'facility': 'bar'}, {'count': 2, 'facility': 'park'}, {'count': 3, 'facility': 'pharmacy'}, {'count': 1, 'facility': 'sports_field'}]\n"
     ]
    }
   ],
   "source": [
    "edge2 = [e for e in edges if e[2][\"fid\"] == 118831][0]\n",
    "u, v, d = edge2\n",
    "\n",
    "point = shape(d[\"geom\"]).interpolate(0.5, normalized=True)\n",
    "candidates = unweaver.graph.waypoint_candidates(G, point.x, point.y, 1, dwithin=1)\n",
    "candidate = next(candidates)\n",
    "\n",
    "feature = {\"geom\": mapping(point)}\n",
    "for facility_class in facility_classes:\n",
    "    feature[facility_class] = 0\n",
    "\n",
    "G_aug = unweaver.augmented.prepare_augmented(G, candidate)\n",
    "path, edge_list = unweaver.algorithms.reachable.reachable(G_aug, candidate, cost_fun, 400)\n",
    "edge_list = \",\".join((str(e[\"fid\"]) for e in edge_list))\n",
    "query = G.network.gpkg.conn.execute(f\"\"\"\n",
    "    SELECT COUNT(DISTINCT facility_osm_id) count,\n",
    "           facility\n",
    "      FROM facility_edges \n",
    "     WHERE edge_fid IN ({edge_list})\n",
    "  GROUP BY facility\n",
    "\"\"\")\n",
    "print(list(query))"
   ]
  },
  {
   "cell_type": "code",
   "execution_count": 12,
   "metadata": {},
   "outputs": [
    {
     "data": {
      "image/png": "[encoded data removed]",
      "text/plain": [
       "<Figure size 640x480 with 1 Axes>"
      ]
     },
     "metadata": {},
     "output_type": "display_data"
    },
    {
     "data": {
      "text/plain": [
       "<ggplot: (-9223363243726710903)>"
      ]
     },
     "execution_count": 12,
     "metadata": {},
     "output_type": "execute_result"
    }
   ],
   "source": [
    "import geopandas as gpd\n",
    "import plotnine as p\n",
    "\n",
    "fids = [int(e) for e in edge_list.split(\",\")]\n",
    "query = G.network.gpkg.conn.execute(f\"\"\"\n",
    "    SELECT *\n",
    "      FROM edges\n",
    "     WHERE fid IN ({edge_list})\n",
    "\"\"\")\n",
    "\n",
    "rows = [G.network.edges.deserialize_row(r) for r in query]\n",
    "gdf = gpd.GeoDataFrame([{**r, \"geometry\": shape(r[\"geom\"])} for r in rows])\n",
    "gdf.crs = 4326\n",
    "gdf2 = gdf.to_crs(26910)\n",
    "\n",
    "ex_point = gpd.GeoDataFrame([{\"geometry\": shape({\"type\": \"Point\", \"coordinates\": [point.x, point.y]})}])\n",
    "# point = gpd.GeoDataFrame([{\"geometry\": candidate.geometry}])\n",
    "ex_point.crs = 4326\n",
    "ex_point = ex_point.to_crs(26910)\n",
    "\n",
    "(\n",
    "    p.ggplot(gdf2)\n",
    "    + p.geom_map()\n",
    "    + p.geom_map(data=ex_point, fill=\"red\", size=2)\n",
    ")"
   ]
  },
  {
   "cell_type": "code",
   "execution_count": null,
   "metadata": {},
   "outputs": [],
   "source": []
  }
 ],
 "metadata": {
  "kernelspec": {
   "display_name": "Python 3",
   "language": "python",
   "name": "python3"
  },
  "language_info": {
   "codemirror_mode": {
    "name": "ipython",
    "version": 3
   },
   "file_extension": ".py",
   "mimetype": "text/x-python",
   "name": "python",
   "nbconvert_exporter": "python",
   "pygments_lexer": "ipython3",
   "version": "3.8.5"
  }
 },
 "nbformat": 4,
 "nbformat_minor": 4
}
